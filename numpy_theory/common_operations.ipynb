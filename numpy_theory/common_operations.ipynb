{
 "cells": [
  {
   "cell_type": "markdown",
   "source": [
    "# 4.1 Where"
   ],
   "metadata": {
    "collapsed": false
   }
  },
  {
   "cell_type": "code",
   "execution_count": 1,
   "outputs": [],
   "source": [
    "import numpy as np"
   ],
   "metadata": {
    "collapsed": false
   }
  },
  {
   "cell_type": "code",
   "execution_count": 2,
   "outputs": [],
   "source": [
    "generator = np.random.default_rng()"
   ],
   "metadata": {
    "collapsed": false
   }
  },
  {
   "cell_type": "code",
   "execution_count": 3,
   "outputs": [
    {
     "name": "stdout",
     "output_type": "stream",
     "text": [
      "[5 2 3 ... 5 0 4]\n"
     ]
    }
   ],
   "source": [
    "foo = generator.integers(6, size=2*10**6)\n",
    "print(foo)"
   ],
   "metadata": {
    "collapsed": false
   }
  },
  {
   "cell_type": "markdown",
   "source": [],
   "metadata": {
    "collapsed": false
   }
  },
  {
   "cell_type": "code",
   "execution_count": 4,
   "outputs": [
    {
     "name": "stdout",
     "output_type": "stream",
     "text": [
      "[4 0 5 ... 0 5 4]\n"
     ]
    }
   ],
   "source": [
    "bar = generator.integers(6, size=2*10**6)\n",
    "print(bar)"
   ],
   "metadata": {
    "collapsed": false
   }
  },
  {
   "cell_type": "code",
   "execution_count": 9,
   "outputs": [
    {
     "name": "stdout",
     "output_type": "stream",
     "text": [
      "[10.   4.   1.5 ... 10.   0.   8. ]\n",
      "[10.   4.   1.5 ... 10.   0.   8. ]\n",
      "[10.   4.   1.5 ... 10.   0.   8. ]\n",
      "[10.   4.   1.5 ... 10.   0.   8. ]\n",
      "[10.   4.   1.5 ... 10.   0.   8. ]\n",
      "[10.   4.   1.5 ... 10.   0.   8. ]\n",
      "[10.   4.   1.5 ... 10.   0.   8. ]\n",
      "[10.   4.   1.5 ... 10.   0.   8. ]\n",
      "676 ms ± 31.7 ms per loop (mean ± std. dev. of 7 runs, 1 loop each)\n"
     ]
    }
   ],
   "source": [
    "%%timeit\n",
    "baz = np.zeros(foo.size)\n",
    "for i in range(foo.size):\n",
    "    if bar[i] % 2 == 0:\n",
    "        baz[i] = foo[i] * 2\n",
    "    else:\n",
    "        baz[i] = foo[i] /2\n",
    "\n",
    "print(baz)"
   ],
   "metadata": {
    "collapsed": false
   }
  },
  {
   "cell_type": "code",
   "execution_count": 10,
   "outputs": [
    {
     "name": "stdout",
     "output_type": "stream",
     "text": [
      "[10.   4.   1.5 ... 10.   0.   8. ]\n",
      "[10.   4.   1.5 ... 10.   0.   8. ]\n",
      "[10.   4.   1.5 ... 10.   0.   8. ]\n",
      "[10.   4.   1.5 ... 10.   0.   8. ]\n",
      "[10.   4.   1.5 ... 10.   0.   8. ]\n",
      "[10.   4.   1.5 ... 10.   0.   8. ]\n",
      "[10.   4.   1.5 ... 10.   0.   8. ]\n",
      "[10.   4.   1.5 ... 10.   0.   8. ]\n",
      "[10.   4.   1.5 ... 10.   0.   8. ]\n",
      "[10.   4.   1.5 ... 10.   0.   8. ]\n",
      "[10.   4.   1.5 ... 10.   0.   8. ]\n",
      "[10.   4.   1.5 ... 10.   0.   8. ]\n",
      "[10.   4.   1.5 ... 10.   0.   8. ]\n",
      "[10.   4.   1.5 ... 10.   0.   8. ]\n",
      "[10.   4.   1.5 ... 10.   0.   8. ]\n",
      "[10.   4.   1.5 ... 10.   0.   8. ]\n",
      "[10.   4.   1.5 ... 10.   0.   8. ]\n",
      "[10.   4.   1.5 ... 10.   0.   8. ]\n",
      "[10.   4.   1.5 ... 10.   0.   8. ]\n",
      "[10.   4.   1.5 ... 10.   0.   8. ]\n",
      "[10.   4.   1.5 ... 10.   0.   8. ]\n",
      "[10.   4.   1.5 ... 10.   0.   8. ]\n",
      "[10.   4.   1.5 ... 10.   0.   8. ]\n",
      "[10.   4.   1.5 ... 10.   0.   8. ]\n",
      "[10.   4.   1.5 ... 10.   0.   8. ]\n",
      "[10.   4.   1.5 ... 10.   0.   8. ]\n",
      "[10.   4.   1.5 ... 10.   0.   8. ]\n",
      "[10.   4.   1.5 ... 10.   0.   8. ]\n",
      "[10.   4.   1.5 ... 10.   0.   8. ]\n",
      "[10.   4.   1.5 ... 10.   0.   8. ]\n",
      "[10.   4.   1.5 ... 10.   0.   8. ]\n",
      "[10.   4.   1.5 ... 10.   0.   8. ]\n",
      "[10.   4.   1.5 ... 10.   0.   8. ]\n",
      "[10.   4.   1.5 ... 10.   0.   8. ]\n",
      "[10.   4.   1.5 ... 10.   0.   8. ]\n",
      "[10.   4.   1.5 ... 10.   0.   8. ]\n",
      "[10.   4.   1.5 ... 10.   0.   8. ]\n",
      "[10.   4.   1.5 ... 10.   0.   8. ]\n",
      "[10.   4.   1.5 ... 10.   0.   8. ]\n",
      "[10.   4.   1.5 ... 10.   0.   8. ]\n",
      "[10.   4.   1.5 ... 10.   0.   8. ]\n",
      "[10.   4.   1.5 ... 10.   0.   8. ]\n",
      "[10.   4.   1.5 ... 10.   0.   8. ]\n",
      "[10.   4.   1.5 ... 10.   0.   8. ]\n",
      "[10.   4.   1.5 ... 10.   0.   8. ]\n",
      "[10.   4.   1.5 ... 10.   0.   8. ]\n",
      "[10.   4.   1.5 ... 10.   0.   8. ]\n",
      "[10.   4.   1.5 ... 10.   0.   8. ]\n",
      "[10.   4.   1.5 ... 10.   0.   8. ]\n",
      "[10.   4.   1.5 ... 10.   0.   8. ]\n",
      "[10.   4.   1.5 ... 10.   0.   8. ]\n",
      "[10.   4.   1.5 ... 10.   0.   8. ]\n",
      "[10.   4.   1.5 ... 10.   0.   8. ]\n",
      "[10.   4.   1.5 ... 10.   0.   8. ]\n",
      "[10.   4.   1.5 ... 10.   0.   8. ]\n",
      "[10.   4.   1.5 ... 10.   0.   8. ]\n",
      "[10.   4.   1.5 ... 10.   0.   8. ]\n",
      "[10.   4.   1.5 ... 10.   0.   8. ]\n",
      "[10.   4.   1.5 ... 10.   0.   8. ]\n",
      "[10.   4.   1.5 ... 10.   0.   8. ]\n",
      "[10.   4.   1.5 ... 10.   0.   8. ]\n",
      "[10.   4.   1.5 ... 10.   0.   8. ]\n",
      "[10.   4.   1.5 ... 10.   0.   8. ]\n",
      "[10.   4.   1.5 ... 10.   0.   8. ]\n",
      "[10.   4.   1.5 ... 10.   0.   8. ]\n",
      "[10.   4.   1.5 ... 10.   0.   8. ]\n",
      "[10.   4.   1.5 ... 10.   0.   8. ]\n",
      "[10.   4.   1.5 ... 10.   0.   8. ]\n",
      "[10.   4.   1.5 ... 10.   0.   8. ]\n",
      "[10.   4.   1.5 ... 10.   0.   8. ]\n",
      "[10.   4.   1.5 ... 10.   0.   8. ]\n",
      "[10.   4.   1.5 ... 10.   0.   8. ]\n",
      "[10.   4.   1.5 ... 10.   0.   8. ]\n",
      "[10.   4.   1.5 ... 10.   0.   8. ]\n",
      "[10.   4.   1.5 ... 10.   0.   8. ]\n",
      "[10.   4.   1.5 ... 10.   0.   8. ]\n",
      "[10.   4.   1.5 ... 10.   0.   8. ]\n",
      "[10.   4.   1.5 ... 10.   0.   8. ]\n",
      "[10.   4.   1.5 ... 10.   0.   8. ]\n",
      "[10.   4.   1.5 ... 10.   0.   8. ]\n",
      "[10.   4.   1.5 ... 10.   0.   8. ]\n",
      "32.4 ms ± 636 µs per loop (mean ± std. dev. of 7 runs, 10 loops each)\n"
     ]
    }
   ],
   "source": [
    "%%timeit\n",
    "boz = np.where(bar%2 == 0, foo*2, foo/2)\n",
    "print(boz)"
   ],
   "metadata": {
    "collapsed": false
   }
  },
  {
   "cell_type": "code",
   "execution_count": 8,
   "outputs": [
    {
     "data": {
      "text/plain": "True"
     },
     "execution_count": 8,
     "metadata": {},
     "output_type": "execute_result"
    }
   ],
   "source": [
    "np.array_equal(baz, boz)"
   ],
   "metadata": {
    "collapsed": false
   }
  },
  {
   "cell_type": "markdown",
   "source": [
    "# 4.2 Math functions"
   ],
   "metadata": {
    "collapsed": false
   }
  },
  {
   "cell_type": "code",
   "execution_count": 13,
   "outputs": [
    {
     "name": "stdout",
     "output_type": "stream",
     "text": [
      "[[ 3 -1  3]\n",
      " [ 0  3  5]\n",
      " [ 4 10  3]]\n"
     ]
    },
    {
     "name": "stderr",
     "output_type": "stream",
     "text": [
      "/tmp/ipykernel_7403/2157175792.py:1: DeprecationWarning: This function is deprecated. Please call randint(-5, 10 + 1) instead\n",
      "  squee = np.array(np.random.random_integers(-5, 10, 9)).reshape(3, -1)\n"
     ]
    }
   ],
   "source": [
    "squee = np.array(np.random.random_integers(-5, 10, 9)).reshape(3, -1)\n",
    "print(squee)"
   ],
   "metadata": {
    "collapsed": false
   }
  },
  {
   "cell_type": "code",
   "execution_count": 14,
   "outputs": [
    {
     "data": {
      "text/plain": "30"
     },
     "execution_count": 14,
     "metadata": {},
     "output_type": "execute_result"
    }
   ],
   "source": [
    "np.sum(squee)"
   ],
   "metadata": {
    "collapsed": false
   }
  },
  {
   "cell_type": "code",
   "execution_count": 15,
   "outputs": [
    {
     "data": {
      "text/plain": "array([ 7, 12, 11])"
     },
     "execution_count": 15,
     "metadata": {},
     "output_type": "execute_result"
    }
   ],
   "source": [
    "np.sum(squee, axis=0)"
   ],
   "metadata": {
    "collapsed": false
   }
  },
  {
   "cell_type": "code",
   "execution_count": 16,
   "outputs": [
    {
     "data": {
      "text/plain": "array([ 5,  8, 17])"
     },
     "execution_count": 16,
     "metadata": {},
     "output_type": "execute_result"
    }
   ],
   "source": [
    "np.sum(squee, axis=1)"
   ],
   "metadata": {
    "collapsed": false
   }
  },
  {
   "cell_type": "code",
   "execution_count": 17,
   "outputs": [
    {
     "data": {
      "text/plain": "array([[ 7, 12, 11]])"
     },
     "execution_count": 17,
     "metadata": {},
     "output_type": "execute_result"
    }
   ],
   "source": [
    "np.sum(squee, axis=0, keepdims=True)"
   ],
   "metadata": {
    "collapsed": false
   }
  },
  {
   "cell_type": "code",
   "execution_count": 18,
   "outputs": [
    {
     "ename": "ValueError",
     "evalue": "cannot convert float NaN to integer",
     "output_type": "error",
     "traceback": [
      "\u001B[0;31m---------------------------------------------------------------------------\u001B[0m",
      "\u001B[0;31mValueError\u001B[0m                                Traceback (most recent call last)",
      "Cell \u001B[0;32mIn[18], line 1\u001B[0m\n\u001B[0;32m----> 1\u001B[0m \u001B[43msquee\u001B[49m\u001B[43m[\u001B[49m\u001B[38;5;241;43m0\u001B[39;49m\u001B[43m,\u001B[49m\u001B[43m \u001B[49m\u001B[38;5;241;43m0\u001B[39;49m\u001B[43m]\u001B[49m \u001B[38;5;241m=\u001B[39m np\u001B[38;5;241m.\u001B[39mnan\n\u001B[1;32m      2\u001B[0m \u001B[38;5;28mprint\u001B[39m(squee)\n",
      "\u001B[0;31mValueError\u001B[0m: cannot convert float NaN to integer"
     ]
    }
   ],
   "source": [
    "squee[0, 0] = np.nan\n",
    "print(squee)\n",
    "np.sum(squee, where=-np.isnan(squee))"
   ],
   "metadata": {
    "collapsed": false
   }
  },
  {
   "cell_type": "code",
   "execution_count": 19,
   "outputs": [
    {
     "data": {
      "text/plain": "30"
     },
     "execution_count": 19,
     "metadata": {},
     "output_type": "execute_result"
    }
   ],
   "source": [
    "np.sum(np.nan_to_num(squee))"
   ],
   "metadata": {
    "collapsed": false
   }
  },
  {
   "cell_type": "code",
   "execution_count": 20,
   "outputs": [
    {
     "data": {
      "text/plain": "30"
     },
     "execution_count": 20,
     "metadata": {},
     "output_type": "execute_result"
    }
   ],
   "source": [
    "np.nansum(squee)"
   ],
   "metadata": {
    "collapsed": false
   }
  },
  {
   "cell_type": "markdown",
   "source": [
    "# 4.3 Any() all()"
   ],
   "metadata": {
    "collapsed": false
   }
  },
  {
   "cell_type": "code",
   "execution_count": 21,
   "outputs": [
    {
     "name": "stdout",
     "output_type": "stream",
     "text": [
      "[[nan 4.4]\n",
      " [1.  3.2]\n",
      " [nan nan]\n",
      " [0.1 nan]]\n"
     ]
    }
   ],
   "source": [
    "foo = np.array([\n",
    "    [np.nan, 4.4],\n",
    "    [1.0, 3.2],\n",
    "    [np.nan, np.nan],\n",
    "    [0.1, np.nan]\n",
    "])\n",
    "print(foo)"
   ],
   "metadata": {
    "collapsed": false
   }
  },
  {
   "cell_type": "code",
   "execution_count": 23,
   "outputs": [
    {
     "name": "stdout",
     "output_type": "stream",
     "text": [
      "[[ True False]\n",
      " [False False]\n",
      " [ True  True]\n",
      " [False  True]]\n"
     ]
    }
   ],
   "source": [
    "print(np.isnan(foo))"
   ],
   "metadata": {
    "collapsed": false
   }
  },
  {
   "cell_type": "code",
   "execution_count": 27,
   "outputs": [
    {
     "name": "stdout",
     "output_type": "stream",
     "text": [
      "[ True False  True  True]\n"
     ]
    }
   ],
   "source": [
    "mask = np.any(np.isnan(foo), axis=1)\n",
    "print(mask)"
   ],
   "metadata": {
    "collapsed": false
   }
  },
  {
   "cell_type": "code",
   "execution_count": 25,
   "outputs": [
    {
     "data": {
      "text/plain": "array([False, False,  True, False])"
     },
     "execution_count": 25,
     "metadata": {},
     "output_type": "execute_result"
    }
   ],
   "source": [
    "np.all(np.isnan(foo), axis=1)"
   ],
   "metadata": {
    "collapsed": false
   }
  },
  {
   "cell_type": "code",
   "execution_count": 28,
   "outputs": [
    {
     "data": {
      "text/plain": "array([[nan, 4.4],\n       [nan, nan],\n       [0.1, nan]])"
     },
     "execution_count": 28,
     "metadata": {},
     "output_type": "execute_result"
    }
   ],
   "source": [
    "foo[mask]"
   ],
   "metadata": {
    "collapsed": false
   }
  },
  {
   "cell_type": "markdown",
   "source": [
    "# 4.4 Concatenate"
   ],
   "metadata": {
    "collapsed": false
   }
  },
  {
   "cell_type": "code",
   "execution_count": 30,
   "outputs": [
    {
     "data": {
      "text/plain": "array([[0., 0.],\n       [0., 0.],\n       [0., 0.]])"
     },
     "execution_count": 30,
     "metadata": {},
     "output_type": "execute_result"
    }
   ],
   "source": [
    "a = np.zeros(shape=(3, 2))\n",
    "a"
   ],
   "metadata": {
    "collapsed": false
   }
  },
  {
   "cell_type": "code",
   "execution_count": 31,
   "outputs": [
    {
     "data": {
      "text/plain": "array([[1., 1.],\n       [1., 1.]])"
     },
     "execution_count": 31,
     "metadata": {},
     "output_type": "execute_result"
    }
   ],
   "source": [
    "b = np.ones(shape=(2, 2))\n",
    "b"
   ],
   "metadata": {
    "collapsed": false
   }
  },
  {
   "cell_type": "code",
   "execution_count": 32,
   "outputs": [
    {
     "data": {
      "text/plain": "array([[0., 0.],\n       [0., 0.],\n       [0., 0.],\n       [0., 0.],\n       [0., 0.],\n       [0., 0.],\n       [0., 0.],\n       [0., 0.],\n       [0., 0.]])"
     },
     "execution_count": 32,
     "metadata": {},
     "output_type": "execute_result"
    }
   ],
   "source": [
    "np.concatenate((a, a, a), axis=0)"
   ],
   "metadata": {
    "collapsed": false
   }
  },
  {
   "cell_type": "code",
   "execution_count": 33,
   "outputs": [
    {
     "data": {
      "text/plain": "array([[0., 0., 0., 0., 0., 0.],\n       [0., 0., 0., 0., 0., 0.],\n       [0., 0., 0., 0., 0., 0.]])"
     },
     "execution_count": 33,
     "metadata": {},
     "output_type": "execute_result"
    }
   ],
   "source": [
    "np.concatenate((a, a, a), axis=1)"
   ],
   "metadata": {
    "collapsed": false
   }
  },
  {
   "cell_type": "code",
   "execution_count": 34,
   "outputs": [
    {
     "data": {
      "text/plain": "array([[0., 0.],\n       [0., 0.],\n       [0., 0.],\n       [1., 1.],\n       [1., 1.]])"
     },
     "execution_count": 34,
     "metadata": {},
     "output_type": "execute_result"
    }
   ],
   "source": [
    "np.concatenate((a, b), axis=0)"
   ],
   "metadata": {
    "collapsed": false
   }
  },
  {
   "cell_type": "code",
   "execution_count": 36,
   "outputs": [
    {
     "ename": "ValueError",
     "evalue": "all the input array dimensions except for the concatenation axis must match exactly, but along dimension 0, the array at index 0 has size 3 and the array at index 1 has size 2",
     "output_type": "error",
     "traceback": [
      "\u001B[0;31m---------------------------------------------------------------------------\u001B[0m",
      "\u001B[0;31mValueError\u001B[0m                                Traceback (most recent call last)",
      "Cell \u001B[0;32mIn[36], line 1\u001B[0m\n\u001B[0;32m----> 1\u001B[0m \u001B[43mnp\u001B[49m\u001B[38;5;241;43m.\u001B[39;49m\u001B[43mconcatenate\u001B[49m\u001B[43m(\u001B[49m\u001B[43m(\u001B[49m\u001B[43ma\u001B[49m\u001B[43m,\u001B[49m\u001B[43m \u001B[49m\u001B[43mb\u001B[49m\u001B[43m)\u001B[49m\u001B[43m,\u001B[49m\u001B[43m \u001B[49m\u001B[43maxis\u001B[49m\u001B[38;5;241;43m=\u001B[39;49m\u001B[38;5;241;43m1\u001B[39;49m\u001B[43m)\u001B[49m\n",
      "File \u001B[0;32m<__array_function__ internals>:200\u001B[0m, in \u001B[0;36mconcatenate\u001B[0;34m(*args, **kwargs)\u001B[0m\n",
      "\u001B[0;31mValueError\u001B[0m: all the input array dimensions except for the concatenation axis must match exactly, but along dimension 0, the array at index 0 has size 3 and the array at index 1 has size 2"
     ]
    }
   ],
   "source": [
    "np.concatenate((a, b), axis=1)"
   ],
   "metadata": {
    "collapsed": false
   }
  },
  {
   "cell_type": "markdown",
   "source": [
    "# 4.5 Stacking"
   ],
   "metadata": {
    "collapsed": false
   }
  },
  {
   "cell_type": "code",
   "execution_count": 37,
   "outputs": [],
   "source": [
    "foo = np.array(['a', 'b'])\n",
    "bar = np.array(['c', 'd'])\n",
    "baz = np.array(['e', 'f'])\n",
    "bingo = np.array([['g', 'h', 'i']])\n",
    "bongo = np.array(\n",
    "    [['j', 'k'],\n",
    "     ['i', 'm']]\n",
    ")"
   ],
   "metadata": {
    "collapsed": false
   }
  },
  {
   "cell_type": "code",
   "execution_count": 39,
   "outputs": [
    {
     "data": {
      "text/plain": "array([['a', 'b'],\n       ['c', 'd']], dtype='<U1')"
     },
     "execution_count": 39,
     "metadata": {},
     "output_type": "execute_result"
    }
   ],
   "source": [
    "np.vstack((foo, bar))"
   ],
   "metadata": {
    "collapsed": false
   }
  },
  {
   "cell_type": "code",
   "execution_count": 41,
   "outputs": [
    {
     "data": {
      "text/plain": "array([['a', 'b'],\n       ['c', 'd'],\n       ['e', 'f']], dtype='<U1')"
     },
     "execution_count": 41,
     "metadata": {},
     "output_type": "execute_result"
    }
   ],
   "source": [
    "np.vstack((foo, bar, baz))"
   ],
   "metadata": {
    "collapsed": false
   }
  },
  {
   "cell_type": "code",
   "execution_count": 43,
   "outputs": [
    {
     "data": {
      "text/plain": "array(['a', 'b', 'c', 'd'], dtype='<U1')"
     },
     "execution_count": 43,
     "metadata": {},
     "output_type": "execute_result"
    }
   ],
   "source": [
    "np.hstack((foo, bar))"
   ],
   "metadata": {
    "collapsed": false
   }
  },
  {
   "cell_type": "code",
   "execution_count": 45,
   "outputs": [
    {
     "data": {
      "text/plain": "array(['a', 'b', 'e', 'f', 'c', 'd'], dtype='<U1')"
     },
     "execution_count": 45,
     "metadata": {},
     "output_type": "execute_result"
    }
   ],
   "source": [
    "np.hstack((foo, baz, bar))"
   ],
   "metadata": {
    "collapsed": false
   }
  },
  {
   "cell_type": "code",
   "execution_count": 46,
   "outputs": [
    {
     "data": {
      "text/plain": "array([['a', 'b'],\n       ['c', 'd']], dtype='<U1')"
     },
     "execution_count": 46,
     "metadata": {},
     "output_type": "execute_result"
    }
   ],
   "source": [
    "np.stack((foo, bar), axis=0)"
   ],
   "metadata": {
    "collapsed": false
   }
  },
  {
   "cell_type": "code",
   "execution_count": 47,
   "outputs": [
    {
     "data": {
      "text/plain": "array([['a', 'c'],\n       ['b', 'd']], dtype='<U1')"
     },
     "execution_count": 47,
     "metadata": {},
     "output_type": "execute_result"
    }
   ],
   "source": [
    "np.stack((foo, bar), axis=1)"
   ],
   "metadata": {
    "collapsed": false
   }
  },
  {
   "cell_type": "code",
   "execution_count": 49,
   "outputs": [
    {
     "data": {
      "text/plain": "array([['a', 'b'],\n       ['c', 'd']], dtype='<U1')"
     },
     "execution_count": 49,
     "metadata": {},
     "output_type": "execute_result"
    }
   ],
   "source": [
    "np.stack((foo, bar), axis=-2)"
   ],
   "metadata": {
    "collapsed": false
   }
  },
  {
   "cell_type": "markdown",
   "source": [
    "# 4.6 Sorting"
   ],
   "metadata": {
    "collapsed": false
   }
  },
  {
   "cell_type": "code",
   "execution_count": 52,
   "outputs": [
    {
     "name": "stdout",
     "output_type": "stream",
     "text": [
      "[ 8  7  4  6  2 -2  6  8 -3 -2]\n"
     ]
    }
   ],
   "source": [
    "foo = np.array(np.random.randint(-5, 10 , 10))\n",
    "print(foo)"
   ],
   "metadata": {
    "collapsed": false
   }
  },
  {
   "cell_type": "code",
   "execution_count": 53,
   "outputs": [
    {
     "data": {
      "text/plain": "array([-3, -2, -2,  2,  4,  6,  6,  7,  8,  8])"
     },
     "execution_count": 53,
     "metadata": {},
     "output_type": "execute_result"
    }
   ],
   "source": [
    "np.sort(foo)"
   ],
   "metadata": {
    "collapsed": false
   }
  },
  {
   "cell_type": "code",
   "execution_count": 54,
   "outputs": [
    {
     "data": {
      "text/plain": "array([ 8,  7,  4,  6,  2, -2,  6,  8, -3, -2])"
     },
     "execution_count": 54,
     "metadata": {},
     "output_type": "execute_result"
    }
   ],
   "source": [
    "foo"
   ],
   "metadata": {
    "collapsed": false
   }
  },
  {
   "cell_type": "code",
   "execution_count": 56,
   "outputs": [
    {
     "data": {
      "text/plain": "array([-3, -2, -2,  2,  4,  6,  6,  7,  8,  8])"
     },
     "execution_count": 56,
     "metadata": {},
     "output_type": "execute_result"
    }
   ],
   "source": [
    "foo.sort()\n",
    "foo"
   ],
   "metadata": {
    "collapsed": false
   }
  },
  {
   "cell_type": "code",
   "execution_count": 57,
   "outputs": [
    {
     "data": {
      "text/plain": "array([ 3.,  5., 11., nan])"
     },
     "execution_count": 57,
     "metadata": {},
     "output_type": "execute_result"
    }
   ],
   "source": [
    "bar = np.array([5, np.nan, 3, 11])\n",
    "np.sort(bar)"
   ],
   "metadata": {
    "collapsed": false
   }
  },
  {
   "cell_type": "code",
   "execution_count": 58,
   "outputs": [
    {
     "data": {
      "text/plain": "array([nan, 11.,  5.,  3.])"
     },
     "execution_count": 58,
     "metadata": {},
     "output_type": "execute_result"
    }
   ],
   "source": [
    "np.sort(bar)[::-1]"
   ],
   "metadata": {
    "collapsed": false
   }
  },
  {
   "cell_type": "code",
   "execution_count": 63,
   "outputs": [
    {
     "data": {
      "text/plain": "array([11.,  5.,  3., nan])"
     },
     "execution_count": 63,
     "metadata": {},
     "output_type": "execute_result"
    }
   ],
   "source": [
    "-np.sort(-bar)"
   ],
   "metadata": {
    "collapsed": false
   }
  },
  {
   "cell_type": "code",
   "execution_count": 64,
   "outputs": [
    {
     "name": "stdout",
     "output_type": "stream",
     "text": [
      "[[ 9  7 -3]\n",
      " [ 8 -1 -4]\n",
      " [ 7 -5 -4]]\n"
     ]
    }
   ],
   "source": [
    "boo = np.array(np.random.randint(-5, 10, 9)).reshape(3, -1)\n",
    "print(boo)"
   ],
   "metadata": {
    "collapsed": false
   }
  },
  {
   "cell_type": "code",
   "execution_count": 65,
   "outputs": [
    {
     "data": {
      "text/plain": "array([[ 7, -5, -4],\n       [ 8, -1, -4],\n       [ 9,  7, -3]])"
     },
     "execution_count": 65,
     "metadata": {},
     "output_type": "execute_result"
    }
   ],
   "source": [
    "np.sort(boo, axis=0)"
   ],
   "metadata": {
    "collapsed": false
   }
  },
  {
   "cell_type": "code",
   "execution_count": 66,
   "outputs": [
    {
     "data": {
      "text/plain": "array([[-3,  7,  9],\n       [-4, -1,  8],\n       [-5, -4,  7]])"
     },
     "execution_count": 66,
     "metadata": {},
     "output_type": "execute_result"
    }
   ],
   "source": [
    "np.sort(boo, axis=1)"
   ],
   "metadata": {
    "collapsed": false
   }
  },
  {
   "cell_type": "code",
   "execution_count": 67,
   "outputs": [
    {
     "data": {
      "text/plain": "array([[ 7, -5, -4],\n       [ 8, -1, -4],\n       [ 9,  7, -3]])"
     },
     "execution_count": 67,
     "metadata": {},
     "output_type": "execute_result"
    }
   ],
   "source": [
    "boo[np.argsort(boo[:, 0])]"
   ],
   "metadata": {
    "collapsed": false
   }
  },
  {
   "cell_type": "markdown",
   "source": [
    "# 4.7 Unique"
   ],
   "metadata": {
    "collapsed": false
   }
  },
  {
   "cell_type": "code",
   "execution_count": 68,
   "outputs": [
    {
     "name": "stdout",
     "output_type": "stream",
     "text": [
      "[ 5  4  3 -4  2 -2  0  3 -4  0]\n"
     ]
    }
   ],
   "source": [
    "gar = np.array(np.random.randint(-5 , 10, 10))\n",
    "print(gar)"
   ],
   "metadata": {
    "collapsed": false
   }
  },
  {
   "cell_type": "code",
   "execution_count": 70,
   "outputs": [
    {
     "data": {
      "text/plain": "array([-4, -2,  0,  2,  3,  4,  5])"
     },
     "execution_count": 70,
     "metadata": {},
     "output_type": "execute_result"
    }
   ],
   "source": [
    "np.unique(gar)"
   ],
   "metadata": {
    "collapsed": false
   }
  },
  {
   "cell_type": "code",
   "execution_count": 71,
   "outputs": [
    {
     "data": {
      "text/plain": "(array([-4, -2,  0,  2,  3,  4,  5]), array([3, 5, 6, 4, 2, 1, 0]))"
     },
     "execution_count": 71,
     "metadata": {},
     "output_type": "execute_result"
    }
   ],
   "source": [
    "np.unique(gar, return_index=True)"
   ],
   "metadata": {
    "collapsed": false
   }
  },
  {
   "cell_type": "code",
   "execution_count": 74,
   "outputs": [
    {
     "name": "stdout",
     "output_type": "stream",
     "text": [
      "[-4 -2  0  2  3  4  5]\n",
      "[3 5 6 4 2 1 0]\n"
     ]
    }
   ],
   "source": [
    "unique, first_position = np.unique(gar, return_index=True)\n",
    "print(unique)\n",
    "print(first_position)"
   ],
   "metadata": {
    "collapsed": false
   }
  },
  {
   "cell_type": "code",
   "execution_count": 75,
   "outputs": [
    {
     "data": {
      "text/plain": "array([ 5,  4,  3, -4,  2, -2,  0])"
     },
     "execution_count": 75,
     "metadata": {},
     "output_type": "execute_result"
    }
   ],
   "source": [
    "unique[np.argsort(first_position)]"
   ],
   "metadata": {
    "collapsed": false
   }
  },
  {
   "cell_type": "code",
   "execution_count": 76,
   "outputs": [
    {
     "data": {
      "text/plain": "(array([-4, -2,  0,  2,  3,  4,  5]), array([2, 1, 2, 1, 2, 1, 1]))"
     },
     "execution_count": 76,
     "metadata": {},
     "output_type": "execute_result"
    }
   ],
   "source": [
    "np.unique(gar, return_counts=True)"
   ],
   "metadata": {
    "collapsed": false
   }
  },
  {
   "cell_type": "code",
   "execution_count": null,
   "outputs": [],
   "source": [],
   "metadata": {
    "collapsed": false
   }
  }
 ],
 "metadata": {
  "kernelspec": {
   "display_name": "Python 3",
   "language": "python",
   "name": "python3"
  },
  "language_info": {
   "codemirror_mode": {
    "name": "ipython",
    "version": 2
   },
   "file_extension": ".py",
   "mimetype": "text/x-python",
   "name": "python",
   "nbconvert_exporter": "python",
   "pygments_lexer": "ipython2",
   "version": "2.7.6"
  }
 },
 "nbformat": 4,
 "nbformat_minor": 0
}
